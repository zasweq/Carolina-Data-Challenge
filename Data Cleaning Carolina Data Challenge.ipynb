{
 "cells": [
  {
   "cell_type": "code",
   "execution_count": 4,
   "metadata": {},
   "outputs": [
    {
     "data": {
      "text/html": [
       "<div>\n",
       "<style scoped>\n",
       "    .dataframe tbody tr th:only-of-type {\n",
       "        vertical-align: middle;\n",
       "    }\n",
       "\n",
       "    .dataframe tbody tr th {\n",
       "        vertical-align: top;\n",
       "    }\n",
       "\n",
       "    .dataframe thead th {\n",
       "        text-align: right;\n",
       "    }\n",
       "</style>\n",
       "<table border=\"1\" class=\"dataframe\">\n",
       "  <thead>\n",
       "    <tr style=\"text-align: right;\">\n",
       "      <th></th>\n",
       "      <th>Year</th>\n",
       "      <th>Cause Name</th>\n",
       "      <th>State</th>\n",
       "      <th>Deaths</th>\n",
       "    </tr>\n",
       "  </thead>\n",
       "  <tbody>\n",
       "    <tr>\n",
       "      <th>0</th>\n",
       "      <td>2016</td>\n",
       "      <td>Unintentional injuries</td>\n",
       "      <td>Alabama</td>\n",
       "      <td>2755</td>\n",
       "    </tr>\n",
       "    <tr>\n",
       "      <th>1</th>\n",
       "      <td>2016</td>\n",
       "      <td>Unintentional injuries</td>\n",
       "      <td>Alaska</td>\n",
       "      <td>439</td>\n",
       "    </tr>\n",
       "    <tr>\n",
       "      <th>2</th>\n",
       "      <td>2016</td>\n",
       "      <td>Unintentional injuries</td>\n",
       "      <td>Arizona</td>\n",
       "      <td>4010</td>\n",
       "    </tr>\n",
       "    <tr>\n",
       "      <th>3</th>\n",
       "      <td>2016</td>\n",
       "      <td>Unintentional injuries</td>\n",
       "      <td>Arkansas</td>\n",
       "      <td>1604</td>\n",
       "    </tr>\n",
       "    <tr>\n",
       "      <th>4</th>\n",
       "      <td>2016</td>\n",
       "      <td>Unintentional injuries</td>\n",
       "      <td>California</td>\n",
       "      <td>13213</td>\n",
       "    </tr>\n",
       "  </tbody>\n",
       "</table>\n",
       "</div>"
      ],
      "text/plain": [
       "   Year              Cause Name       State  Deaths\n",
       "0  2016  Unintentional injuries     Alabama    2755\n",
       "1  2016  Unintentional injuries      Alaska     439\n",
       "2  2016  Unintentional injuries     Arizona    4010\n",
       "3  2016  Unintentional injuries    Arkansas    1604\n",
       "4  2016  Unintentional injuries  California   13213"
      ]
     },
     "execution_count": 4,
     "metadata": {},
     "output_type": "execute_result"
    }
   ],
   "source": [
    "import pandas as pd\n",
    "import numpy as nm\n",
    "data = pd.read_csv('https://query.data.world/s/i4qhpwxwteprslnsmbn63o2jhrvgat')\n",
    "data.head()\n",
    "to_drop = ['113 Cause Name', 'Age-adjusted Death Rate']\n",
    "data.drop(to_drop, inplace=True, axis = 1)\n",
    "data.head()\n",
    "#No need to set index"
   ]
  },
  {
   "cell_type": "code",
   "execution_count": 6,
   "metadata": {},
   "outputs": [],
   "source": [
    "data.to_csv('Death_Causes_Modified.csv')"
   ]
  },
  {
   "cell_type": "code",
   "execution_count": 22,
   "metadata": {},
   "outputs": [
    {
     "data": {
      "text/plain": [
       "0    False\n",
       "1    False\n",
       "2    False\n",
       "3    False\n",
       "4    False\n",
       "Name: State, dtype: bool"
      ]
     },
     "execution_count": 22,
     "metadata": {},
     "output_type": "execute_result"
    }
   ],
   "source": [
    "#Not implemented************\n",
    "#state = data['State']\n",
    "#US = state.str.contains('United States')\n",
    "#US[:5]\n",
    "#df['Place of Publication'] = nm.delete(data, nm.where(State, 'United States'), 0)\n",
    "#Not implemented************"
   ]
  },
  {
   "cell_type": "code",
   "execution_count": 17,
   "metadata": {},
   "outputs": [
    {
     "data": {
      "text/plain": [
       "int64     2\n",
       "object    2\n",
       "dtype: int64"
      ]
     },
     "execution_count": 17,
     "metadata": {},
     "output_type": "execute_result"
    }
   ],
   "source": [
    "data.get_dtype_counts() #checking whether numeric or regular data is stored in each one, make sure int is stored in something we will total\n",
    "#figure out how to calculate population \n",
    "#basic-Group by year, cause name, add up all of them then store it in a new population csv\n"
   ]
  },
  {
   "cell_type": "code",
   "execution_count": 16,
   "metadata": {},
   "outputs": [
    {
     "data": {
      "text/plain": [
       "2015    572\n",
       "2007    572\n",
       "2008    572\n",
       "2016    572\n",
       "2001    572\n",
       "2009    572\n",
       "2002    572\n",
       "2010    572\n",
       "2003    572\n",
       "2011    572\n",
       "2004    572\n",
       "2012    572\n",
       "2005    572\n",
       "2013    572\n",
       "2006    572\n",
       "2014    572\n",
       "1999    572\n",
       "2000    572\n",
       "Name: Year, dtype: int64"
      ]
     },
     "execution_count": 16,
     "metadata": {},
     "output_type": "execute_result"
    }
   ],
   "source": [
    "data['Year'].value_counts() #shows we have equality for each diesease"
   ]
  },
  {
   "cell_type": "code",
   "execution_count": 17,
   "metadata": {},
   "outputs": [
    {
     "data": {
      "text/plain": [
       "Stroke                     936\n",
       "All causes                 936\n",
       "Heart disease              936\n",
       "Alzheimer's disease        936\n",
       "Kidney disease             936\n",
       "CLRD                       936\n",
       "Suicide                    936\n",
       "Influenza and pneumonia    936\n",
       "Cancer                     936\n",
       "Diabetes                   936\n",
       "Unintentional injuries     936\n",
       "Name: Cause Name, dtype: int64"
      ]
     },
     "execution_count": 17,
     "metadata": {},
     "output_type": "execute_result"
    }
   ],
   "source": [
    "data['Cause Name'].value_counts()"
   ]
  },
  {
   "cell_type": "code",
   "execution_count": 12,
   "metadata": {},
   "outputs": [],
   "source": [
    "#Group the data so we can calculate the population totals, group it by year and cause name\n",
    "#basic-Group by year, cause name, add up all of them then store it in a new population csv, population/2 should equal united states, as the united states is part of the states\n",
    "data.groupby(['Year', 'Cause Name'])['Deaths'].sum()\n",
    "#Since this has more than one column, it is returning a dataframe, not a series, a series is one column\n",
    "grouped_data = data.groupby(['Year', 'Cause Name'])\n",
    "grouped_data['Deaths'].sum().to_csv('Population_Totals')"
   ]
  },
  {
   "cell_type": "code",
   "execution_count": 29,
   "metadata": {},
   "outputs": [
    {
     "data": {
      "text/plain": [
       "Year  Cause Name              State               \n",
       "1999  All causes              Alabama                  44806\n",
       "                              Alaska                    2708\n",
       "                              Arizona                  40050\n",
       "                              Arkansas                 27925\n",
       "                              California              229380\n",
       "                              Colorado                 27114\n",
       "                              Connecticut              29446\n",
       "                              Delaware                  6666\n",
       "                              District of Columbia      6076\n",
       "                              Florida                 163224\n",
       "                              Georgia                  62028\n",
       "                              Hawaii                    8270\n",
       "                              Idaho                     9579\n",
       "                              Illinois                108436\n",
       "                              Indiana                  55303\n",
       "                              Iowa                     28411\n",
       "                              Kansas                   24472\n",
       "                              Kentucky                 39321\n",
       "                              Louisiana                41238\n",
       "                              Maine                    12261\n",
       "                              Maryland                 43089\n",
       "                              Massachusetts            55840\n",
       "                              Michigan                 87232\n",
       "                              Minnesota                38537\n",
       "                              Mississippi              28185\n",
       "                              Missouri                 55931\n",
       "                              Montana                   8128\n",
       "                              Nebraska                 15579\n",
       "                              Nevada                   15082\n",
       "                              New Hampshire             9537\n",
       "                                                       ...  \n",
       "2016  Unintentional injuries  Michigan                  5313\n",
       "                              Minnesota                 2697\n",
       "                              Mississippi               1803\n",
       "                              Missouri                  3625\n",
       "                              Montana                    626\n",
       "                              Nebraska                   772\n",
       "                              Nevada                    1395\n",
       "                              New Hampshire              924\n",
       "                              New Jersey                3839\n",
       "                              New Mexico                1487\n",
       "                              New York                  7354\n",
       "                              North Carolina            5476\n",
       "                              North Dakota               371\n",
       "                              Ohio                      7999\n",
       "                              Oklahoma                  2592\n",
       "                              Oregon                    2105\n",
       "                              Pennsylvania              8410\n",
       "                              Rhode Island               675\n",
       "                              South Carolina            3012\n",
       "                              South Dakota               505\n",
       "                              Tennessee                 4238\n",
       "                              Texas                    10536\n",
       "                              United States           161374\n",
       "                              Utah                      1211\n",
       "                              Vermont                    372\n",
       "                              Virginia                  3710\n",
       "                              Washington                3221\n",
       "                              West Virginia             1705\n",
       "                              Wisconsin                 3575\n",
       "                              Wyoming                    371\n",
       "Name: Deaths, Length: 10296, dtype: int64"
      ]
     },
     "execution_count": 29,
     "metadata": {},
     "output_type": "execute_result"
    }
   ],
   "source": [
    "data.groupby(['Year', 'Cause Name', 'State'])['Deaths'].sum()\n",
    "#Test for Vikram's graphs"
   ]
  },
  {
   "cell_type": "code",
   "execution_count": 2,
   "metadata": {},
   "outputs": [
    {
     "ename": "NameError",
     "evalue": "name 'data' is not defined",
     "output_type": "error",
     "traceback": [
      "\u001b[1;31m---------------------------------------------------------------------------\u001b[0m",
      "\u001b[1;31mNameError\u001b[0m                                 Traceback (most recent call last)",
      "\u001b[1;32m<ipython-input-2-0324581c3d98>\u001b[0m in \u001b[0;36m<module>\u001b[1;34m()\u001b[0m\n\u001b[1;32m----> 1\u001b[1;33m \u001b[0mdata\u001b[0m\u001b[1;33m.\u001b[0m\u001b[0mto_csv\u001b[0m\u001b[1;33m(\u001b[0m\u001b[1;34m'Death_Causes_Modified.csv'\u001b[0m\u001b[1;33m)\u001b[0m\u001b[1;33m\u001b[0m\u001b[0m\n\u001b[0m",
      "\u001b[1;31mNameError\u001b[0m: name 'data' is not defined"
     ]
    }
   ],
   "source": []
  },
  {
   "cell_type": "code",
   "execution_count": null,
   "metadata": {},
   "outputs": [],
   "source": []
  },
  {
   "cell_type": "code",
   "execution_count": null,
   "metadata": {},
   "outputs": [],
   "source": []
  },
  {
   "cell_type": "code",
   "execution_count": null,
   "metadata": {},
   "outputs": [],
   "source": []
  }
 ],
 "metadata": {
  "kernelspec": {
   "display_name": "Python 3",
   "language": "python",
   "name": "python3"
  },
  "language_info": {
   "codemirror_mode": {
    "name": "ipython",
    "version": 3
   },
   "file_extension": ".py",
   "mimetype": "text/x-python",
   "name": "python",
   "nbconvert_exporter": "python",
   "pygments_lexer": "ipython3",
   "version": "3.6.5"
  }
 },
 "nbformat": 4,
 "nbformat_minor": 2
}
